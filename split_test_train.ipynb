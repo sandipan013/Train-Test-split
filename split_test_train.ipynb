{
 "cells": [
  {
   "cell_type": "code",
   "execution_count": 26,
   "metadata": {},
   "outputs": [],
   "source": [
    "# importing os module  \n",
    "import os\n",
    "# importing shutil module  \n",
    "import shutil"
   ]
  },
  {
   "cell_type": "code",
   "execution_count": 27,
   "metadata": {},
   "outputs": [],
   "source": [
    "DATA_DIR = \"flowers\""
   ]
  },
  {
   "cell_type": "code",
   "execution_count": 28,
   "metadata": {},
   "outputs": [],
   "source": [
    "categories = []\n",
    "#Fetch all the folders and save folder names in the categories\n",
    "for folder_name in os.listdir(DATA_DIR):\n",
    "    if folder_name != \".DS_Store\":\n",
    "        categories.append(folder_name)"
   ]
  },
  {
   "cell_type": "code",
   "execution_count": 29,
   "metadata": {},
   "outputs": [],
   "source": [
    "#Loop throught all the folders\n",
    "for category in categories:\n",
    "    try:\n",
    "        path = os.path.join(DATA_DIR, category)\n",
    "\n",
    "        #list all the images in the folder\n",
    "        images = os.listdir(path)\n",
    "\n",
    "        #split the 80% data in training and 20% in testing\n",
    "        length = int(len(images) * 0.8)\n",
    "        train_images = images[:length]\n",
    "        test_images = images[length:]\n",
    "\n",
    "        #Chekcing if training folder exists if not then create trainging folder\n",
    "        destination_path = f\"{DATA_DIR}/train/{category}\"\n",
    "        if (os.path.exists(destination_path) == False):\n",
    "            os.makedirs(f\"{destination_path}\")\n",
    "\n",
    "        #move all the training files in the train folder\n",
    "        for file in train_images:\n",
    "            shutil.move(f\"{path}/{file}\", f\"{destination_path}/{file}\")\n",
    "\n",
    "        #Checking for test folder exists if not then create test folder\n",
    "        destination_test_path = f\"{DATA_DIR}/test/{category}\"\n",
    "        if os.path.exists(destination_test_path) == False:\n",
    "            os.makedirs(f\"{destination_test_path}\")\n",
    "\n",
    "        #move all the testing files in the test folder\n",
    "        for file in test_images:\n",
    "            shutil.move(f\"{path}/{file}\", f\"{destination_test_path}/{file}\")\n",
    "\n",
    "        shutil.rmtree(path)\n",
    "    except OSError as e:\n",
    "        print (\"Error: During executing the split\")"
   ]
  },
  {
   "cell_type": "code",
   "execution_count": null,
   "metadata": {},
   "outputs": [],
   "source": []
  }
 ],
 "metadata": {
  "kernelspec": {
   "display_name": "Python 3",
   "language": "python",
   "name": "python3"
  },
  "language_info": {
   "codemirror_mode": {
    "name": "ipython",
    "version": 3
   },
   "file_extension": ".py",
   "mimetype": "text/x-python",
   "name": "python",
   "nbconvert_exporter": "python",
   "pygments_lexer": "ipython3",
   "version": "3.7.4"
  }
 },
 "nbformat": 4,
 "nbformat_minor": 2
}
